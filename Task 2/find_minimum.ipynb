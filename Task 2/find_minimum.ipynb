{
 "cells": [
  {
   "cell_type": "code",
   "execution_count": 14,
   "id": "0da2eeaa",
   "metadata": {},
   "outputs": [],
   "source": [
    "import numpy as np\n",
    "import matplotlib.pyplot as plt\n",
    "import scipy.optimize as opt\n",
    "%matplotlib inline"
   ]
  },
  {
   "cell_type": "code",
   "execution_count": 29,
   "id": "d4832cee",
   "metadata": {},
   "outputs": [],
   "source": [
    "def f(x):\n",
    "    return np.sin(x / 5) * np.exp(x / 10) + 5 * np.exp(-x / 2)"
   ]
  },
  {
   "cell_type": "code",
   "execution_count": 30,
   "id": "41019b8d",
   "metadata": {},
   "outputs": [
    {
     "data": {
      "text/plain": [
       "[<matplotlib.lines.Line2D at 0x21af5d14910>]"
      ]
     },
     "execution_count": 30,
     "metadata": {},
     "output_type": "execute_result"
    },
    {
     "data": {
      "image/png": "[encoded data removed]",
      "text/plain": [
       "<Figure size 432x288 with 1 Axes>"
      ]
     },
     "metadata": {
      "needs_background": "light"
     },
     "output_type": "display_data"
    }
   ],
   "source": [
    "x = np.linspace(1, 30, 100)\n",
    "plt.plot(x, f(x))"
   ]
  },
  {
   "cell_type": "markdown",
   "id": "98062fe5",
   "metadata": {},
   "source": [
    "# Task 1"
   ]
  },
  {
   "cell_type": "code",
   "execution_count": 52,
   "id": "dbafe442",
   "metadata": {},
   "outputs": [
    {
     "name": "stdout",
     "output_type": "stream",
     "text": [
      "1.745268290332218\n",
      "1.7452682903319732\n",
      "1.745268290331988\n",
      "1.7452682903319916\n",
      "-11.89889466598132\n",
      "-11.898894665941693\n",
      "-11.89889466597802\n",
      "-11.898894665981318\n",
      "-11.898894665981322\n",
      "-11.898894665923374\n"
     ]
    }
   ],
   "source": [
    "for i in x[::10]:\n",
    "    print(opt.minimize(f, i).fun)"
   ]
  },
  {
   "cell_type": "code",
   "execution_count": 55,
   "id": "e79ad9bf",
   "metadata": {},
   "outputs": [],
   "source": [
    "first = round(opt.minimize(f, 2, method='BFGS').fun, 2)\n",
    "second = round(opt.minimize(f, 30, method='BFGS').fun, 2)\n",
    "with open('task1.txt', 'w') as fout:\n",
    "    fout.write(str(first) + ' ' + str(second))"
   ]
  },
  {
   "cell_type": "markdown",
   "id": "b8c07fcd",
   "metadata": {},
   "source": [
    "# Task 2"
   ]
  },
  {
   "cell_type": "code",
   "execution_count": 57,
   "id": "eadc3348",
   "metadata": {},
   "outputs": [],
   "source": [
    "ans = round(opt.differential_evolution(f, [(1, 30)]).fun, 2)\n",
    "with open('task2.txt', 'w') as fout:\n",
    "    fout.write(str(ans))"
   ]
  },
  {
   "cell_type": "markdown",
   "id": "193eb3c6",
   "metadata": {},
   "source": [
    "# Task 3"
   ]
  },
  {
   "cell_type": "code",
   "execution_count": 42,
   "id": "22660051",
   "metadata": {},
   "outputs": [],
   "source": [
    "def h(x):\n",
    "    return np.int_(f(x))"
   ]
  },
  {
   "cell_type": "code",
   "execution_count": 43,
   "id": "00599b0f",
   "metadata": {},
   "outputs": [
    {
     "data": {
      "text/plain": [
       "[<matplotlib.lines.Line2D at 0x21af5d83430>]"
      ]
     },
     "execution_count": 43,
     "metadata": {},
     "output_type": "execute_result"
    },
    {
     "data": {
      "image/png": "[encoded data removed]",
      "text/plain": [
       "<Figure size 432x288 with 1 Axes>"
      ]
     },
     "metadata": {
      "needs_background": "light"
     },
     "output_type": "display_data"
    }
   ],
   "source": [
    "plt.plot(x, h(x))"
   ]
  },
  {
   "cell_type": "code",
   "execution_count": 63,
   "id": "381fb2df",
   "metadata": {},
   "outputs": [],
   "source": [
    "first = opt.minimize(h, 30, method='BFGS').fun\n",
    "second = opt.differential_evolution(h, [(1, 30)]).fun\n",
    "with open('task3.txt', 'w') as fout:\n",
    "    fout.write(str(first) + ' ' + str(second))"
   ]
  },
  {
   "cell_type": "code",
   "execution_count": 99,
   "id": "2e2d8b48",
   "metadata": {},
   "outputs": [],
   "source": [
    "with open('submission-example.txt', 'w') as f:\n",
    "    f.write(' '.join(map(lambda x: str(np.round(x, 2)), w)))"
   ]
  }
 ],
 "metadata": {
  "kernelspec": {
   "display_name": "Python 3 (ipykernel)",
   "language": "python",
   "name": "python3"
  },
  "language_info": {
   "codemirror_mode": {
    "name": "ipython",
    "version": 3
   },
   "file_extension": ".py",
   "mimetype": "text/x-python",
   "name": "python",
   "nbconvert_exporter": "python",
   "pygments_lexer": "ipython3",
   "version": "3.8.10"
  }
 },
 "nbformat": 4,
 "nbformat_minor": 5
}
